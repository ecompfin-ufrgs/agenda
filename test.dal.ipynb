{
 "cells": [
  {
   "cell_type": "markdown",
   "id": "89d701f8-7213-466e-a7c4-2071e5f01031",
   "metadata": {},
   "source": [
    "# Módulo Dal - \"data access layer\"\n",
    "\n"
   ]
  },
  {
   "cell_type": "code",
   "execution_count": 2,
   "id": "da9a12b2-c686-41fb-8ad9-58c23d622341",
   "metadata": {},
   "outputs": [],
   "source": [
    "import sqlite3 as sql"
   ]
  },
  {
   "cell_type": "code",
   "execution_count": 5,
   "id": "6caa18fa-e503-484c-b15c-017296fa6626",
   "metadata": {},
   "outputs": [
    {
     "ename": "OperationalError",
     "evalue": "table contatos already exists",
     "output_type": "error",
     "traceback": [
      "\u001b[1;31m---------------------------------------------------------------------------\u001b[0m",
      "\u001b[1;31mOperationalError\u001b[0m                          Traceback (most recent call last)",
      "Cell \u001b[1;32mIn[5], line 6\u001b[0m\n\u001b[0;32m      3\u001b[0m conn \u001b[38;5;241m=\u001b[39m sql\u001b[38;5;241m.\u001b[39mconnect(\u001b[38;5;124m\"\u001b[39m\u001b[38;5;124mAgenda.db\u001b[39m\u001b[38;5;124m\"\u001b[39m)\n\u001b[0;32m      4\u001b[0m conn\u001b[38;5;241m.\u001b[39mcursor()\n\u001b[1;32m----> 6\u001b[0m \u001b[43mconn\u001b[49m\u001b[38;5;241;43m.\u001b[39;49m\u001b[43mexecute\u001b[49m\u001b[43m(\u001b[49m\u001b[38;5;124;43m\"\"\"\u001b[39;49m\u001b[38;5;124;43mCREATE TABLE contatos(\u001b[39;49m\n\u001b[0;32m      7\u001b[0m \u001b[38;5;124;43m    id INTEGER NOT NULL PRIMARY KEY AUTOINCREMENT,\u001b[39;49m\n\u001b[0;32m      8\u001b[0m \u001b[38;5;124;43m    prenome VARCHAR(50) NOT NULL,\u001b[39;49m\n\u001b[0;32m      9\u001b[0m \u001b[38;5;124;43m    nomeMeio VARCHAR(350) NOT NULL,\u001b[39;49m\n\u001b[0;32m     10\u001b[0m \u001b[38;5;124;43m    sobrenome VARCHAR(350) NOT NULL,\u001b[39;49m\n\u001b[0;32m     11\u001b[0m \u001b[38;5;124;43m    codArea VARCHAR(2) NOT NULL,\u001b[39;49m\n\u001b[0;32m     12\u001b[0m \u001b[38;5;124;43m    celular VARCHAR(9) NOT NULL,\u001b[39;49m\n\u001b[0;32m     13\u001b[0m \u001b[38;5;124;43m    fixo VARCHAR(8),\u001b[39;49m\n\u001b[0;32m     14\u001b[0m \u001b[38;5;124;43m    estado VARCHAR(2) NOT NULL,\u001b[39;49m\n\u001b[0;32m     15\u001b[0m \u001b[38;5;124;43m    municipio VARCHAR(30) NOT NULL,\u001b[39;49m\n\u001b[0;32m     16\u001b[0m \u001b[38;5;124;43m    bairro VARCHAR(30),\u001b[39;49m\n\u001b[0;32m     17\u001b[0m \u001b[38;5;124;43m    tipoLogradouro VARCHAR(10) NOT NULL,\u001b[39;49m\n\u001b[0;32m     18\u001b[0m \u001b[38;5;124;43m    nomeLogradouro VARCHAR(150) NOT NULL,\u001b[39;49m\n\u001b[0;32m     19\u001b[0m \u001b[38;5;124;43m    numero INTEGER,\u001b[39;49m\n\u001b[0;32m     20\u001b[0m \u001b[38;5;124;43m    complemento VARCHAR(100)\u001b[39;49m\n\u001b[0;32m     21\u001b[0m \u001b[38;5;124;43m    );\u001b[39;49m\u001b[38;5;124;43m\"\"\"\u001b[39;49m\n\u001b[0;32m     22\u001b[0m \u001b[43m)\u001b[49m\n\u001b[0;32m     24\u001b[0m conn\u001b[38;5;241m.\u001b[39mexecute(\n\u001b[0;32m     25\u001b[0m     \u001b[38;5;124;03m\"\"\"\u001b[39;00m\n\u001b[0;32m     26\u001b[0m \u001b[38;5;124;03m    INSERT INTO contatos(\u001b[39;00m\n\u001b[1;32m   (...)\u001b[0m\n\u001b[0;32m     43\u001b[0m \u001b[38;5;124;03m    \"\"\"\u001b[39;00m\n\u001b[0;32m     44\u001b[0m )\n\u001b[0;32m     45\u001b[0m conn\u001b[38;5;241m.\u001b[39mclose()\n",
      "\u001b[1;31mOperationalError\u001b[0m: table contatos already exists"
     ]
    }
   ],
   "source": [
    "# Função para criar o banco de dados\n",
    "\n",
    "conn = sql.connect(\"Agenda.db\")\n",
    "conn.cursor()\n",
    "\n",
    "conn.execute(\"\"\"CREATE TABLE contatos(\n",
    "    id INTEGER NOT NULL PRIMARY KEY AUTOINCREMENT,\n",
    "    prenome VARCHAR(50) NOT NULL,\n",
    "    nomeMeio VARCHAR(350) NOT NULL,\n",
    "    sobrenome VARCHAR(350) NOT NULL,\n",
    "    codArea VARCHAR(2) NOT NULL,\n",
    "    celular VARCHAR(9) NOT NULL,\n",
    "    fixo VARCHAR(8),\n",
    "    estado VARCHAR(2) NOT NULL,\n",
    "    municipio VARCHAR(30) NOT NULL,\n",
    "    bairro VARCHAR(30),\n",
    "    tipoLogradouro VARCHAR(10) NOT NULL,\n",
    "    nomeLogradouro VARCHAR(150) NOT NULL,\n",
    "    numero INTEGER,\n",
    "    complemento VARCHAR(100)\n",
    "    );\"\"\"\n",
    ")\n",
    "\n",
    "\n",
    "conn.close()"
   ]
  },
  {
   "cell_type": "code",
   "execution_count": 7,
   "id": "86612dc0-c992-40e6-a7dc-f689fad5293a",
   "metadata": {},
   "outputs": [
    {
     "data": {
      "text/plain": [
       "<sqlite3.Cursor at 0x256dc33eb40>"
      ]
     },
     "execution_count": 7,
     "metadata": {},
     "output_type": "execute_result"
    }
   ],
   "source": [
    "#conn.connect(\"Agenda.db\")\n",
    "conn.cursor()\n",
    "conn.execute(\n",
    "    \"\"\"\n",
    "    INSERT INTO contatos(\n",
    "    id,\n",
    "    prenome,\n",
    "    nomeMeio,\n",
    "    sobrenome,\n",
    "    codArea,\n",
    "    celular,\n",
    "    fixo,\n",
    "    estado,\n",
    "    municipio,\n",
    "    bairro,\n",
    "    tipoLogradouro,\n",
    "    nomeLogradouro,\n",
    "    numero,\n",
    "    complemento)\n",
    "    values\n",
    "    (1, \"João\", \"da Silva\", \"Fontenele\", \"51\", \"999999999\", \"\", \"RS\", \"Porto Alegre\", \"Medianeira\", \"Rua\", \"Alguma\", 258, \"\");\n",
    "    \"\"\"\n",
    ")"
   ]
  },
  {
   "cell_type": "code",
   "execution_count": 8,
   "id": "8779e272-53be-4729-ad8d-ef5745ad3920",
   "metadata": {},
   "outputs": [],
   "source": [
    "import sqlite3 as sql\n",
    "def inserir(registro: list) -> sql.Cursor:\n",
    "    conn = sql.connect(\"Agenda.db\")\n",
    "    conn.cursor()\n",
    "    conn.execute(\"\"\"\n",
    "    INSERT INTO contatos values registro;\"\"\")"
   ]
  },
  {
   "cell_type": "code",
   "execution_count": null,
   "id": "6e457639-0f31-46f9-ab87-2b0cc1e9dd1d",
   "metadata": {},
   "outputs": [],
   "source": []
  }
 ],
 "metadata": {
  "kernelspec": {
   "display_name": "Python 3 (ipykernel)",
   "language": "python",
   "name": "python3"
  },
  "language_info": {
   "codemirror_mode": {
    "name": "ipython",
    "version": 3
   },
   "file_extension": ".py",
   "mimetype": "text/x-python",
   "name": "python",
   "nbconvert_exporter": "python",
   "pygments_lexer": "ipython3",
   "version": "3.10.9"
  }
 },
 "nbformat": 4,
 "nbformat_minor": 5
}
